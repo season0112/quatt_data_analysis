{
 "cells": [
  {
   "attachments": {},
   "cell_type": "markdown",
   "metadata": {},
   "source": [
    "# Example of analyzing cloud watch logs in Python\n",
    "This script provides an example of reading and analyzing cloud watch logs in Python.  \n",
    "It can serve as a basis to a more elaborate analytics script.  \n",
    "\n",
    "Before using: \n",
    "- make sure to have aws cli profiles configured  \n",
    "- select the correct profile_name to connect to AWS  \n",
    "- be sure to change 'log_group' variable depending on whether you are connecting to dev or prod"
   ]
  },
  {
   "cell_type": "code",
   "execution_count": 62,
   "metadata": {},
   "outputs": [],
   "source": [
    "import boto3\n",
    "from datetime import datetime, timedelta\n",
    "import time\n",
    "import pandas as pd\n",
    "import json\n",
    "from os import path"
   ]
  },
  {
   "cell_type": "code",
   "execution_count": 63,
   "metadata": {},
   "outputs": [],
   "source": [
    "session = boto3.Session(profile_name='production', region_name='eu-west-1') # change to your profile name\n",
    "client = session.client('logs')"
   ]
  },
  {
   "cell_type": "code",
   "execution_count": 64,
   "metadata": {},
   "outputs": [],
   "source": [
    "\n",
    "def get_cloudwatch_logs(cic_id, n_max=100, start_time=(datetime.today() - timedelta(hours=5)), end_time=datetime.now()):\n",
    "    query = f\"fields @message, @timestamp, @logStream, @log | filter clientid = '{cic_id}' | limit {n_max}\"\n",
    "    log_group = 'cic_logs' # 'cic_logs' in production, 'CIC_logs' in dev\n",
    "\n",
    "    # Correct type of start and end times\n",
    "    if isinstance(start_time, datetime):\n",
    "        start_time = int(start_time.timestamp())\n",
    "    if isinstance(end_time, datetime):\n",
    "        end_time = int(end_time.timestamp())\n",
    "    \n",
    "    start_query_response = client.start_query(\n",
    "        logGroupName=log_group,\n",
    "        startTime=start_time,\n",
    "        endTime=end_time,\n",
    "        queryString=query,\n",
    "    )\n",
    "\n",
    "    query_id = start_query_response['queryId']\n",
    "\n",
    "    response = None\n",
    "\n",
    "    while response == None or response['status'] == 'Running':\n",
    "        # print('Waiting for query to complete ...')\n",
    "        time.sleep(1)\n",
    "        response = client.get_query_results(\n",
    "            queryId=query_id\n",
    "        )\n",
    "    return response"
   ]
  },
  {
   "attachments": {},
   "cell_type": "markdown",
   "metadata": {},
   "source": [
    "Example of usage and conversion to pandas frame"
   ]
  },
  {
   "cell_type": "code",
   "execution_count": 29,
   "metadata": {},
   "outputs": [],
   "source": [
    "# get logs\n",
    "cic_id = 'CIC-3d024a6b-c933-54e0-b1f9-52bae643355d'\n",
    "start_time = datetime(year=2023, month=7, day=11, hour=4, minute=0, second=0)\n",
    "end_time = datetime(year=2023, month=7, day=11, hour=9, minute=59, second=59)\n",
    "response = get_cloudwatch_logs(cic_id, start_time=start_time, end_time=end_time, n_max=10000)\n",
    "\n",
    "# make dataframe of error messages:\n",
    "df = pd.concat([pd.json_normalize(json.loads(row[0]['value'])['payload']['logs']) \n",
    "                for row in response['results']], ignore_index=True)\n",
    "\n",
    "# add column with cic_id and human readable timestamp\n",
    "df['cic_id'] = cic_id\n",
    "df['timestamp'] = pd.to_datetime(df['ts'], unit='us')\n",
    "df.sort_values(by='timestamp', ascending=False, inplace=True)"
   ]
  },
  {
   "cell_type": "code",
   "execution_count": 31,
   "metadata": {},
   "outputs": [],
   "source": [
    "# query message field for certain errors\n",
    "df_ot = df[df['service'].str.contains('opentherm')]\n",
    "df_nm = df[df['service'].str.contains('Network')]\n",
    "# df.query('message.str.contains(\"ERROR\") & message.str.contains(\"MODBUS IO\")', engine='python')"
   ]
  },
  {
   "cell_type": "code",
   "execution_count": 35,
   "metadata": {},
   "outputs": [],
   "source": [
    "# Save data\n",
    "file_name = f'{start_time.strftime(\"%Y-%m-%d\")}_{cic_id}_logs.xlsx'\n",
    "df.to_excel(path.join('data', file_name), index=False)"
   ]
  }
 ],
 "metadata": {
  "kernelspec": {
   "display_name": ".venv",
   "language": "python",
   "name": "python3"
  },
  "language_info": {
   "codemirror_mode": {
    "name": "ipython",
    "version": 3
   },
   "file_extension": ".py",
   "mimetype": "text/x-python",
   "name": "python",
   "nbconvert_exporter": "python",
   "pygments_lexer": "ipython3",
   "version": "3.10.11"
  },
  "orig_nbformat": 4
 },
 "nbformat": 4,
 "nbformat_minor": 2
}
