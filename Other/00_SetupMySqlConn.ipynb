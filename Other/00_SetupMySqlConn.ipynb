{
 "cells": [
  {
   "attachments": {},
   "cell_type": "markdown",
   "metadata": {},
   "source": [
    "# Example: connecting to Mysql database"
   ]
  },
  {
   "cell_type": "code",
   "execution_count": 4,
   "metadata": {},
   "outputs": [],
   "source": [
    "import mysql.connector\n",
    "from mysql.connector import Error\n",
    "from urllib.parse import urlparse\n",
    "from dotenv import load_dotenv\n",
    "import os\n",
    "from pathlib import Path"
   ]
  },
  {
   "cell_type": "code",
   "execution_count": 5,
   "metadata": {},
   "outputs": [
    {
     "data": {
      "text/plain": [
       "False"
      ]
     },
     "execution_count": 5,
     "metadata": {},
     "output_type": "execute_result"
    }
   ],
   "source": [
    "# load .env file\n",
    "env_path = Path('../') / '.env'\n",
    "load_dotenv(env_path)"
   ]
  },
  {
   "cell_type": "code",
   "execution_count": 6,
   "metadata": {},
   "outputs": [
    {
     "name": "stdout",
     "output_type": "stream",
     "text": [
      "Connected to MySQL Server version  8.0.28\n",
      "[('_prisma_migrations',), ('cic',), ('cicCommissioning',), ('cicRegistration',), ('energyConsumption',), ('heatPump',), ('heatPumpCommissioning',), ('installation',), ('installer',), ('user',), ('userCic',), ('userCicPairRequest',), ('userClient',)]\n",
      "MySQL connection is closed\n"
     ]
    }
   ],
   "source": [
    "mysql_url = os.getenv('MYSQLPROD')\n",
    "parsed_mysql_url = urlparse(mysql_url)\n",
    "\n",
    "try:\n",
    "    connection = mysql.connector.connect(host=parsed_mysql_url.hostname,\n",
    "                                         user=parsed_mysql_url.username,\n",
    "                                         password=parsed_mysql_url.password,\n",
    "                                         database=parsed_mysql_url.path[1:],\n",
    "                                         port=parsed_mysql_url.port)\n",
    "    if connection.is_connected():\n",
    "        db_Info = connection.get_server_info()\n",
    "        print(\"Connected to MySQL Server version \", db_Info)\n",
    "        cursor = connection.cursor()\n",
    "        cursor.execute(\"SELECT * FROM cic;\")\n",
    "        fields = [field_md[0] for field_md in cursor.description]\n",
    "        result = [dict(zip(fields,row)) for row in cursor.fetchall()]\n",
    "        print(result)\n",
    "\n",
    "except Error as e:\n",
    "    print(\"Error while connecting to MySQL\", e)\n",
    "finally:\n",
    "    if connection.is_connected():\n",
    "        cursor.close()\n",
    "        connection.close()\n",
    "        print(\"MySQL connection is closed\")"
   ]
  },
  {
   "cell_type": "code",
   "execution_count": null,
   "metadata": {},
   "outputs": [],
   "source": []
  }
 ],
 "metadata": {
  "kernelspec": {
   "display_name": ".venv",
   "language": "python",
   "name": "python3"
  },
  "language_info": {
   "codemirror_mode": {
    "name": "ipython",
    "version": 3
   },
   "file_extension": ".py",
   "mimetype": "text/x-python",
   "name": "python",
   "nbconvert_exporter": "python",
   "pygments_lexer": "ipython3",
   "version": "3.11.3"
  },
  "orig_nbformat": 4
 },
 "nbformat": 4,
 "nbformat_minor": 2
}
