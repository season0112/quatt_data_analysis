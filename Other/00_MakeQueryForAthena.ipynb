{
 "cells": [
  {
   "attachments": {},
   "cell_type": "markdown",
   "metadata": {},
   "source": [
    "# a short script to make Athena queries quickly "
   ]
  },
  {
   "cell_type": "code",
   "execution_count": 1,
   "metadata": {},
   "outputs": [],
   "source": [
    "# make query to get cic data\n",
    "def make_query(cic_dates, keys=[]):\n",
    "    '''\n",
    "    Make a query to get cic data from athena.\n",
    "    INPUT:\n",
    "        cic_dates: list of dicts containing cic id, min_date and max_date\n",
    "            example cic_dates = [{'cic_id': 'CIC-008396fd-1fe4-5812-b410-91ac000e439c', 'min_date': '2022/12/20', 'max_date': '2022/12/20'}, {...}...]\n",
    "        keys: list of keys to get from athena, list of strings example: ['system.quattBuild', 'system.isLteConnected']\n",
    "    OUPUT:\n",
    "        query_string: string containing the query to get data from athena\n",
    "    '''\n",
    "\n",
    "    query_string = ''\n",
    "\n",
    "    for cic_date in cic_dates:\n",
    "        try:\n",
    "            cic = cic_date['cic_id']\n",
    "            min_date = cic_date['min_date']\n",
    "            max_date = cic_date['max_date']\n",
    "\n",
    "            # query_string += '''SELECT now as time, clientid as cicid,'''\n",
    "            query_string += '''SELECT arbitrary(clientid) as cicid, max(now) as time, '''\n",
    "            for key in keys:\n",
    "                query_string += f'''json_extract_scalar(payload, '$.stats[0].{key.lower()}') as {key.replace('.', '_')}, '''\n",
    "            query_string = query_string[:-2]\n",
    "            query_string += f''' FROM raw_iot_data WHERE cic_id = '{cic}' AND date_format >= '{min_date}' AND date_format <= '{max_date}' '''\n",
    "            # query_string += ' AND json_extract_scalar(payload, \\'$.stats[0].system.iswifireachable\\') = \\'true\\' '\n",
    "        except:\n",
    "            raise ValueError('cic_dates must be a list of dicts containing cic_id, min_date and max_date')\n",
    "        \n",
    "        if cic_date != cic_dates[-1]:\n",
    "            query_string += '\\nUNION ALL\\n'\n",
    "        else :\n",
    "            query_string += ';'\n",
    "    return query_string"
   ]
  },
  {
   "cell_type": "code",
   "execution_count": null,
   "metadata": {},
   "outputs": [],
   "source": []
  }
 ],
 "metadata": {
  "kernelspec": {
   "display_name": ".venv",
   "language": "python",
   "name": "python3"
  },
  "language_info": {
   "codemirror_mode": {
    "name": "ipython",
    "version": 3
   },
   "file_extension": ".py",
   "mimetype": "text/x-python",
   "name": "python",
   "nbconvert_exporter": "python",
   "pygments_lexer": "ipython3",
   "version": "3.11.3"
  },
  "orig_nbformat": 4
 },
 "nbformat": 4,
 "nbformat_minor": 2
}
