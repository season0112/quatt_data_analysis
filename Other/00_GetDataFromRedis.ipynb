{
 "cells": [
  {
   "attachments": {},
   "cell_type": "markdown",
   "metadata": {},
   "source": [
    "# Getting and filtering data from production redis"
   ]
  },
  {
   "cell_type": "code",
   "execution_count": 1,
   "metadata": {},
   "outputs": [],
   "source": [
    "from urllib.parse import urlparse\n",
    "from dotenv import load_dotenv\n",
    "import os\n",
    "from pathlib import Path\n",
    "import json\n",
    "import redis\n",
    "import pandas as pd # only if needed for filtering of data"
   ]
  },
  {
   "cell_type": "code",
   "execution_count": 2,
   "metadata": {},
   "outputs": [
    {
     "data": {
      "text/plain": [
       "True"
      ]
     },
     "execution_count": 2,
     "metadata": {},
     "output_type": "execute_result"
    }
   ],
   "source": [
    "# load .env file\n",
    "env_path = Path('../') / '.env'\n",
    "load_dotenv(env_path)"
   ]
  },
  {
   "cell_type": "code",
   "execution_count": 3,
   "metadata": {},
   "outputs": [],
   "source": [
    "def get_cic_stats_from_redis(redis_url):\n",
    "    # Connect to Redis database\n",
    "    parsed_url = urlparse(redis_url)\n",
    "    r = redis.Redis(host=parsed_url.hostname,\n",
    "                    port=parsed_url.port,\n",
    "                    db=0,\n",
    "                    password=parsed_url.password,\n",
    "                    username=parsed_url.username)\n",
    "    \n",
    "    # get objects from redis\n",
    "    redis_objects = r.mget(r.keys(pattern=\"cic:*CIC*lastStat*\"))\n",
    "    results = []\n",
    "    for obj, key in zip(redis_objects, r.keys(pattern=\"cic:*CIC*lastStat*\")):\n",
    "        try:\n",
    "            data = json.loads(obj.decode())\n",
    "            data['cic'] = key.decode().split(':')[1]\n",
    "            results.append(data)\n",
    "        except:\n",
    "            pass\n",
    "    return results"
   ]
  },
  {
   "attachments": {},
   "cell_type": "markdown",
   "metadata": {},
   "source": [
    "### Example of usage: getting all cic's connected via Wifi"
   ]
  },
  {
   "cell_type": "code",
   "execution_count": 4,
   "metadata": {},
   "outputs": [
    {
     "name": "stdout",
     "output_type": "stream",
     "text": [
      "                                system.quattId system.quattBuild  \\\n",
      "0     CIC-90ecb6cd-8b7c-5685-b9d2-13ab8623d275             2.0.5   \n",
      "2                                         None             2.0.4   \n",
      "3     CIC-4d5ecd4f-f1c7-5f02-bd6d-ae974808bd6e             1.2.6   \n",
      "4     CIC-c8a4a4ed-b6c9-549f-8c35-df4e15aa4437             2.0.5   \n",
      "5     CIC-55fb7e30-0c71-5010-84e9-431b7d8712be             2.0.5   \n",
      "...                                        ...               ...   \n",
      "2354  CIC-b48549a4-b773-54c6-a576-84b390a11aa8             2.0.5   \n",
      "2355  CIC-5d08dfe4-17bb-5a67-9b8d-4ff71cb4143c             2.0.5   \n",
      "2356  CIC-21d9e8ee-4092-51e2-96d8-125e3a7bb9c8             2.0.5   \n",
      "2357  CIC-93ab8148-cee2-59b6-a298-c5abe8a90b1e             2.0.5   \n",
      "2359  CIC-421420d6-8b26-5bc2-8f6f-e15afe281eb3           0.01.03   \n",
      "\n",
      "                  time.tsHuman system.isLteConnected system.isWifiReachable  \\\n",
      "0     2023-07-25T09:01:45.176Z                  True                   True   \n",
      "2     2023-07-25T09:01:51.426Z                  True                  False   \n",
      "3     2023-06-29T02:35:59.833Z                  True                  False   \n",
      "4     2023-07-25T09:01:51.071Z                  True                   True   \n",
      "5     2023-07-25T09:01:46.488Z                  True                  False   \n",
      "...                        ...                   ...                    ...   \n",
      "2354  2023-07-25T09:01:56.308Z                  True                   True   \n",
      "2355  2023-07-25T09:01:58.524Z                  True                   True   \n",
      "2356  2023-07-25T09:01:46.842Z                  True                   True   \n",
      "2357  2023-07-25T09:01:49.338Z                  True                   True   \n",
      "2359  2023-05-01T10:36:01.308Z                  True                   True   \n",
      "\n",
      "     system.isEthernetReachable  \n",
      "0                          True  \n",
      "2                          True  \n",
      "3                         False  \n",
      "4                         False  \n",
      "5                          True  \n",
      "...                         ...  \n",
      "2354                      False  \n",
      "2355                      False  \n",
      "2356                      False  \n",
      "2357                      False  \n",
      "2359                       True  \n",
      "\n",
      "[2103 rows x 6 columns]\n"
     ]
    }
   ],
   "source": [
    "# get cic data from redis\n",
    "REDIS_URL = os.getenv(\"REDISPROD\")\n",
    "\n",
    "redis_data = get_cic_stats_from_redis(REDIS_URL)\n",
    "\n",
    "df_redis = pd.json_normalize(redis_data)\n",
    "\n",
    "# select list of cic ids which are connected via Lte\n",
    "cic_ids = df_redis[(df_redis['system.quattBuild'] != \"2.0.1\")][['system.quattId', 'system.quattBuild','time.tsHuman', 'system.isLteConnected','system.isWifiReachable','system.isEthernetReachable']]\n",
    "\n",
    "# print list of cic ids\n",
    "print(cic_ids)"
   ]
  },
  {
   "cell_type": "code",
   "execution_count": 10,
   "metadata": {},
   "outputs": [
    {
     "name": "stdout",
     "output_type": "stream",
     "text": [
      "system.quattBuild\n",
      "2.0.4                594\n",
      "2.0.3                 10\n",
      "2.0.5                  5\n",
      "2.0.1                  3\n",
      "2.1.0                  1\n",
      "dtype: int64\n",
      "system.quattBuild  \n",
      "2.0.5                  1372\n",
      "2.0.1                   254\n",
      "2.0.3                    33\n",
      "1.2.6                    18\n",
      "1.2.5                    13\n",
      "2.0.4                    10\n",
      "0.1.3                     6\n",
      "0.0.28                    4\n",
      "0.01.03                   3\n",
      "01.02.05-factory          2\n",
      "0.0.44                    2\n",
      "0.00.57                   2\n",
      "2.0.2                     2\n",
      "01.02.06-production       2\n",
      "1.1.0                     1\n",
      "2.0.0                     1\n",
      "0.00.44                   1\n",
      "0.0.57                    1\n",
      "0.0.53                    1\n",
      "dtype: int64\n"
     ]
    }
   ],
   "source": [
    "print(df_redis[df_redis['system.menderId'].isna()][['system.quattBuild']].value_counts())\n",
    "print(df_redis[df_redis['system.menderId'].notna()][['system.quattBuild']].value_counts())"
   ]
  },
  {
   "cell_type": "code",
   "execution_count": 13,
   "metadata": {},
   "outputs": [],
   "source": [
    "cic_ids[['system.quattId', 'system.quattBuild','time.tsHuman', 'system.isLteConnected','system.isWifiReachable','system.isEthernetReachable']]"
   ]
  }
 ],
 "metadata": {
  "kernelspec": {
   "display_name": ".venv",
   "language": "python",
   "name": "python3"
  },
  "language_info": {
   "codemirror_mode": {
    "name": "ipython",
    "version": 3
   },
   "file_extension": ".py",
   "mimetype": "text/x-python",
   "name": "python",
   "nbconvert_exporter": "python",
   "pygments_lexer": "ipython3",
   "version": "3.11.3"
  },
  "orig_nbformat": 4
 },
 "nbformat": 4,
 "nbformat_minor": 2
}
